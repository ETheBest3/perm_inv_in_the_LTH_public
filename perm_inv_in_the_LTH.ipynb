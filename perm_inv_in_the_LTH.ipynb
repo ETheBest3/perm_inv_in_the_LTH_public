{
  "nbformat": 4,
  "nbformat_minor": 0,
  "metadata": {
    "colab": {
      "provenance": [],
      "gpuType": "T4",
      "authorship_tag": "ABX9TyNoqkwvY2ZzLPYpFAwWiKWZ",
      "include_colab_link": true
    },
    "kernelspec": {
      "name": "python3",
      "display_name": "Python 3"
    },
    "language_info": {
      "name": "python"
    },
    "accelerator": "GPU"
  },
  "cells": [
    {
      "cell_type": "markdown",
      "metadata": {
        "id": "view-in-github",
        "colab_type": "text"
      },
      "source": [
        "<a href=\"https://colab.research.google.com/github/ETheBest3/perm_inv_in_the_LTH_public/blob/main/perm_inv_in_the_LTH.ipynb\" target=\"_parent\"><img src=\"https://colab.research.google.com/assets/colab-badge.svg\" alt=\"Open In Colab\"/></a>"
      ]
    },
    {
      "cell_type": "markdown",
      "source": [
        "# Permutation invariances in the Lottery Ticket Hypothesis"
      ],
      "metadata": {
        "id": "m7mPmSk2ipDf"
      }
    },
    {
      "cell_type": "markdown",
      "source": [
        "Cloning the repository:"
      ],
      "metadata": {
        "id": "zGCIavaEiskA"
      }
    },
    {
      "cell_type": "code",
      "execution_count": null,
      "metadata": {
        "id": "VmY8mFSKXNdP"
      },
      "outputs": [],
      "source": [
        "!git config --global user.email USER_EMAIL\n",
        "!git config --global user.name USERNAME\n",
        "!git clone https://github.com/ETheBest3/perm_inv_in_the_LTH_public.git"
      ]
    },
    {
      "cell_type": "code",
      "source": [
        "%cd perm_inv_in_the_LTH_public/open_lth"
      ],
      "metadata": {
        "id": "huipPEbHXSvN"
      },
      "execution_count": null,
      "outputs": []
    },
    {
      "cell_type": "code",
      "source": [
        "!pip install torch_geometric"
      ],
      "metadata": {
        "id": "0i925l9hXUZi"
      },
      "execution_count": null,
      "outputs": []
    },
    {
      "cell_type": "markdown",
      "source": [
        "Setting the hyperparameters for our experiments:"
      ],
      "metadata": {
        "id": "SlEu-15BiyiN"
      }
    },
    {
      "cell_type": "code",
      "source": [
        "MAX_DIST = 5\n",
        "\n",
        "NUM_LEVELS = 10\n",
        "NUM_TRAININGS = 36\n",
        "MODEL_NAME = \"gcn_1_64_64_64_64_64\"\n",
        "LR = 0.007\n",
        "GAMMA = 0.4\n",
        "MILESTONE_STEPS = \"50ep\"\n",
        "TRAINING_STEPS = \"200ep\"\n",
        "MOMENTUM = 0.9\n",
        "LOSS_CRITERION = \"CrossEntropy\"\n",
        "PRUNING_FRACTION = 0.3"
      ],
      "metadata": {
        "id": "08XAgZRwXWFK"
      },
      "execution_count": 1,
      "outputs": []
    },
    {
      "cell_type": "markdown",
      "source": [
        "Running the experiments:"
      ],
      "metadata": {
        "id": "oDeJ8y0Xi3KM"
      }
    },
    {
      "cell_type": "code",
      "source": [
        "for distance in range(1, MAX_DIST+1):\n",
        "  PATH = \"/content/perm_inv_in_the_LTH_public/open_lth/datasets/graph_dataset/graph_dataset_5000_100_3_2_2_\"+str(distance)+\"/.\"\n",
        "\n",
        "  for train_t in range(1, NUM_TRAININGS+1):\n",
        "    !python open_lth.py lottery --replicate $train_t --dataset_name graph --batch_size 64 --model_name $MODEL_NAME --model_init kaiming_normal --batchnorm_init uniform --optimizer_name sgd --lr $LR --training_steps $TRAINING_STEPS --root $PATH --num_graphs 5000 --num_nodes 100 --k 3 --num_colors 2  --dist $distance --pruning_strategy sparse_global --levels $NUM_LEVELS --milestone_steps $MILESTONE_STEPS --gamma $GAMMA --momentum $MOMENTUM --loss_criterion $LOSS_CRITERION\n"
      ],
      "metadata": {
        "id": "1gGkO5zGXYr5"
      },
      "execution_count": null,
      "outputs": []
    },
    {
      "cell_type": "code",
      "source": [
        "def get_last_accuracy(filename):\n",
        "    with open(filename, 'r') as file:\n",
        "        lines = file.readlines()\n",
        "    for line in reversed(lines):\n",
        "        if 'test_accuracy' in line:\n",
        "            _, _, accuracy = line.strip().split(',')\n",
        "            return float(accuracy)\n",
        "    return None\n",
        "\n",
        "def get_last_loss(filename):\n",
        "    with open(filename, 'r') as file:\n",
        "        lines = file.readlines()\n",
        "    for line in reversed(lines):\n",
        "        if 'test_loss' in line:\n",
        "            _, _, loss = line.strip().split(',')\n",
        "            return float(loss)\n",
        "    return None"
      ],
      "metadata": {
        "id": "x_Xgp-XPXril"
      },
      "execution_count": null,
      "outputs": []
    },
    {
      "cell_type": "code",
      "source": [
        "import scipy.stats as stats\n",
        "import math"
      ],
      "metadata": {
        "id": "jHWU6mCbcRer"
      },
      "execution_count": null,
      "outputs": []
    },
    {
      "cell_type": "code",
      "source": [
        "models = {}\n",
        "means = {}\n",
        "for distance in range(1, MAX_DIST+1):\n",
        "  mean = []\n",
        "  means['mean'+str(distance)] = []\n",
        "  std = []\n",
        "  hash = []\n",
        "  train_path = \"/content/open_lth_data/dist_\"+str(distance)+\"/\"\n",
        "  sparsity = 100\n",
        "  for lev in range(0, NUM_LEVELS+1):\n",
        "    curr_accuracy = []\n",
        "    for train_t in range(1, NUM_TRAININGS+1):\n",
        "      if train_t == 32:\n",
        "        continue\n",
        "      curr_accuracy.append(get_last_accuracy(train_path+\"replicate_\"+str(train_t)+\"/level_\"+str(lev)+\"/main/logger\"))\n",
        "    curr_mean = sum(curr_accuracy) / len(curr_accuracy)\n",
        "    curr_variance = sum([((x - curr_mean) ** 2) for x in curr_accuracy]) / len(curr_accuracy)\n",
        "    curr_std = curr_variance ** 0.5\n",
        "    mean.append(curr_mean)\n",
        "    means['mean'+str(distance)].append((sparsity, curr_mean))\n",
        "    std.append(curr_std)\n",
        "    sparsity = sparsity * (1- PRUNING_FRACTION)\n",
        "    # let's assume these are your values\n",
        "\n",
        "\n",
        "  successful_ticket_mean_accuracy = mean[0]\n",
        "  models['model'+str(distance)] = []\n",
        "  sparsity = 100\n",
        "\n",
        "  for lev in range(1, NUM_LEVELS+1):\n",
        "    sparsity = sparsity * (1-PRUNING_FRACTION)\n",
        "    ticket_mean = mean[lev]\n",
        "    std_dev = std[lev]\n",
        "    # calculate the z-score\n",
        "    z = (successful_ticket_mean_accuracy - ticket_mean) / std_dev\n",
        "\n",
        "    # add sparsity and p_value to data\n",
        "    p_value = 1-stats.norm.cdf(successful_ticket_mean_accuracy, loc=ticket_mean, scale=std_dev)\n",
        "    models['model'+str(distance)].append((sparsity, p_value))\n",
        "\n",
        "  print(\"Mean:\")\n",
        "  print(mean)\n",
        "  print(\"STD:\")\n",
        "  print(std)\n",
        "  print(\"Data:\")\n",
        "  print(models['model'+str(distance)])"
      ],
      "metadata": {
        "id": "hu2s1_RZXdrb"
      },
      "execution_count": null,
      "outputs": []
    },
    {
      "cell_type": "markdown",
      "source": [
        "Plotting the results (probability of finding a winning ticket):"
      ],
      "metadata": {
        "id": "touYz5Hdi7Ds"
      }
    },
    {
      "cell_type": "code",
      "source": [
        "import matplotlib.pyplot as plt\n",
        "\n",
        "# Assuming you have your data in the following format:\n",
        "# data = {'model1': [(sparsity1, pvalue1), (sparsity2, pvalue2), ...],\n",
        "#         'model2': [(sparsity1, pvalue1), (sparsity2, pvalue2), ...],\n",
        "#         ...}\n",
        "\n",
        "models_data = {\n",
        "    'dist 1': models['model1'],\n",
        "    'dist 2': models['model2'],\n",
        "    'dist 3': models['model3'],\n",
        "    'dist 4': models['model4'],\n",
        "    'dist 5': models['model5']\n",
        "}\n",
        "\n",
        "for model, values in models_data.items():\n",
        "    values = values['p_values']\n",
        "    values.sort()  # Sort the values to ensure the line connects points in the correct order\n",
        "    sparsity = [x[0] for x in values]\n",
        "    pvalue = [x[1] for x in values]\n",
        "    plt.scatter(sparsity, pvalue, s=8, label=model)  # s=10 makes the points smaller\n",
        "    plt.plot(sparsity, pvalue)  # Connects the points with a line\n",
        "\n",
        "plt.xlabel('Percent of Weights Remaining')\n",
        "plt.ylabel('Probability of finding a winning ticket')\n",
        "plt.legend()\n",
        "plt.show()"
      ],
      "metadata": {
        "id": "WLGsc7nvXkDd"
      },
      "execution_count": null,
      "outputs": []
    },
    {
      "cell_type": "markdown",
      "source": [
        "Plotting the results (mean accuracy of tickets):"
      ],
      "metadata": {
        "id": "p8z1jDIPjAvn"
      }
    },
    {
      "cell_type": "code",
      "source": [
        "import matplotlib.pyplot as plt\n",
        "\n",
        "# Assuming you have your data in the following format:\n",
        "# data = {'model1': [(sparsity1, pvalue1), (sparsity2, pvalue2), ...],\n",
        "#         'model2': [(sparsity1, pvalue1), (sparsity2, pvalue2), ...],\n",
        "#         ...}\n",
        "\n",
        "means_data = {\n",
        "    'dist 1': means['mean1'],\n",
        "    'dist 2': means['mean2'],\n",
        "    'dist 3': means['mean3'],\n",
        "    'dist 4': means['mean4'],\n",
        "    'dist 5': means['mean5']\n",
        "}\n",
        "\n",
        "for model, values in means_data.items():\n",
        "    values = values['p_values']\n",
        "    values.sort()  # Sort the values to ensure the line connects points in the correct order\n",
        "    sparsity = [x[0] for x in values]\n",
        "    pvalue = [x[1] for x in values]\n",
        "    plt.scatter(sparsity, pvalue, s=8, label=model)  # s=10 makes the points smaller\n",
        "    plt.plot(sparsity, pvalue)  # Connects the points with a line\n",
        "\n",
        "plt.xlabel('Percent of Weights Remaining')\n",
        "plt.ylabel('Mean Accuracy')\n",
        "plt.legend()\n",
        "plt.show()"
      ],
      "metadata": {
        "id": "3r0ppsAJXm_u"
      },
      "execution_count": null,
      "outputs": []
    },
    {
      "cell_type": "markdown",
      "source": [
        "Saving the results in open_lth_data.zip:"
      ],
      "metadata": {
        "id": "cgJXnAITjFvo"
      }
    },
    {
      "cell_type": "code",
      "source": [
        "dir_name=\"open_lth_data\"\n",
        "zip_file=\"open_lth_data.zip\"\n",
        "!zip -r \"${zip_file}\" \"${dir_name}\""
      ],
      "metadata": {
        "id": "qZ3T63E7ckiz"
      },
      "execution_count": null,
      "outputs": []
    }
  ]
}